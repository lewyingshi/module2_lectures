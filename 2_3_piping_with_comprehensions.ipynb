{
  "nbformat": 4,
  "nbformat_minor": 0,
  "metadata": {
    "anaconda-cloud": {},
    "kernelspec": {
      "display_name": "Python 3",
      "language": "python",
      "name": "python3"
    },
    "language_info": {
      "codemirror_mode": {
        "name": "ipython",
        "version": 3
      },
      "file_extension": ".py",
      "mimetype": "text/x-python",
      "name": "python",
      "nbconvert_exporter": "python",
      "pygments_lexer": "ipython3",
      "version": "3.7.2"
    },
    "colab": {
      "name": "2_3_piping_with_comprehensions.ipynb",
      "provenance": [],
      "include_colab_link": true
    }
  },
  "cells": [
    {
      "cell_type": "markdown",
      "metadata": {
        "id": "view-in-github",
        "colab_type": "text"
      },
      "source": [
        "<a href=\"https://colab.research.google.com/github/lewyingshi/module2_lectures/blob/master/2_3_piping_with_comprehensions.ipynb\" target=\"_parent\"><img src=\"https://colab.research.google.com/assets/colab-badge.svg\" alt=\"Open In Colab\"/></a>"
      ]
    },
    {
      "cell_type": "markdown",
      "metadata": {
        "id": "4vI3VAsCgVWK",
        "colab_type": "text"
      },
      "source": [
        "# Piping and List Comprehensions\n",
        "\n",
        "## Objectives\n",
        "\n",
        "1. Identify and use the basic structures of combinind list comprehensions and piping\n",
        "2. Learn about composing list comprehension lambdas"
      ]
    },
    {
      "cell_type": "markdown",
      "metadata": {
        "collapsed": true,
        "id": "b2480P7qgVWL",
        "colab_type": "text"
      },
      "source": [
        "## List Comprehension\n",
        "\n",
        "* Expression for constructing list\n",
        "* Returns a new list\n",
        "* Reads like math\n",
        "    * Set builder notation"
      ]
    },
    {
      "cell_type": "code",
      "metadata": {
        "id": "vlruEE2BgVWM",
        "colab_type": "code",
        "colab": {
          "base_uri": "https://localhost:8080/",
          "height": 34
        },
        "outputId": "ce7c1f28-39a8-4d5b-8e41-a83d91dd0e3c"
      },
      "source": [
        "mylist = [1,2,3,4,5]\n",
        "yourlist = [item ** 2 for item in mylist]\n",
        "yourlist"
      ],
      "execution_count": 1,
      "outputs": [
        {
          "output_type": "execute_result",
          "data": {
            "text/plain": [
              "[1, 4, 9, 16, 25]"
            ]
          },
          "metadata": {
            "tags": []
          },
          "execution_count": 1
        }
      ]
    },
    {
      "cell_type": "markdown",
      "metadata": {
        "id": "AXX-449AgVWV",
        "colab_type": "text"
      },
      "source": [
        "## Pipeable functions with comprehensions\n",
        "\n",
        "\n",
        "    \n",
        "<img src=\"https://github.com/lewyingshi/module2_lectures/blob/master/img/pipe_and_list_comp.png?raw=1\" width=600>"
      ]
    },
    {
      "cell_type": "markdown",
      "metadata": {
        "id": "q6oVj0rtgVWV",
        "colab_type": "text"
      },
      "source": [
        "## Splitting and processing string\n",
        "\n",
        "* Use `split` to cut a string into a list of strings\n",
        "* Use a comprehension to process the list."
      ]
    },
    {
      "cell_type": "code",
      "metadata": {
        "id": "t3Gu9NXLgVWW",
        "colab_type": "code",
        "colab": {
          "base_uri": "https://localhost:8080/",
          "height": 34
        },
        "outputId": "fa7c2cb8-ed45-49ca-f0f5-d145d704e376"
      },
      "source": [
        "quote = \"Don't judge each day by the harvest you reap but by the seeds that you plant.\"\n",
        "words = quote.split(\" \")\n",
        "lengths =  [len(word) for word in words]\n",
        "mean = sum(lengths)/len(lengths)\n",
        "mean"
      ],
      "execution_count": 2,
      "outputs": [
        {
          "output_type": "execute_result",
          "data": {
            "text/plain": [
              "3.875"
            ]
          },
          "metadata": {
            "tags": []
          },
          "execution_count": 2
        }
      ]
    },
    {
      "cell_type": "code",
      "metadata": {
        "id": "jonjkpkmlK9I",
        "colab_type": "code",
        "colab": {
          "base_uri": "https://localhost:8080/",
          "height": 156
        },
        "outputId": "dc183a8d-7438-447b-9b09-38ad9849ce06"
      },
      "source": [
        "!pip install composable"
      ],
      "execution_count": 3,
      "outputs": [
        {
          "output_type": "stream",
          "text": [
            "Collecting composable\n",
            "  Downloading https://files.pythonhosted.org/packages/09/e3/d39be68eedf95b03f9d39107809fed1f9f23bd35dfa875bc38abc815670c/composable-0.1.1-py3-none-any.whl\n",
            "Requirement already satisfied: toolz<0.11.0,>=0.10.0 in /usr/local/lib/python3.6/dist-packages (from composable) (0.10.0)\n",
            "Collecting python-forge<19.0,>=18.6\n",
            "  Downloading https://files.pythonhosted.org/packages/41/d6/e9af8e22d153ebbf584833c1c96d590046f522ae2a86978d4efe496b4aac/python_forge-18.6.0-py35-none-any.whl\n",
            "Installing collected packages: python-forge, composable\n",
            "Successfully installed composable-0.1.1 python-forge-18.6.0\n"
          ],
          "name": "stdout"
        }
      ]
    },
    {
      "cell_type": "code",
      "metadata": {
        "id": "B-jaEq44gVWa",
        "colab_type": "code",
        "colab": {}
      },
      "source": [
        "from composable import pipeable"
      ],
      "execution_count": 4,
      "outputs": []
    },
    {
      "cell_type": "code",
      "metadata": {
        "id": "08kb2_etgVWc",
        "colab_type": "code",
        "colab": {}
      },
      "source": [
        "split = pipeable(lambda sep, s: s.split(sep))\n",
        "word_lengths = pipeable(lambda L: [len(word) for word in L])\n",
        "mean = pipeable(lambda L: sum(L)/len(L))"
      ],
      "execution_count": 13,
      "outputs": []
    },
    {
      "cell_type": "code",
      "metadata": {
        "id": "smXb2kstgVYv",
        "colab_type": "code",
        "colab": {
          "base_uri": "https://localhost:8080/",
          "height": 34
        },
        "outputId": "7018f072-45e3-4ce0-ec8f-ce8080053a09"
      },
      "source": [
        "(quote\n",
        " >> split(\" \")\n",
        " >> word_lengths\n",
        " >> mean\n",
        ")"
      ],
      "execution_count": 14,
      "outputs": [
        {
          "output_type": "execute_result",
          "data": {
            "text/plain": [
              "3.875"
            ]
          },
          "metadata": {
            "tags": []
          },
          "execution_count": 14
        }
      ]
    },
    {
      "cell_type": "markdown",
      "metadata": {
        "id": "GwiSNEACgVZE",
        "colab_type": "text"
      },
      "source": [
        "### <font color='red'> Exercise 1 </font>\n",
        "\n",
        "Use a pipe to take a quote, split it into words, and then grab the last two letter of each word.  **Hint:** Use the slice operation!  Package this process in a function called `first_two_char` and including appropriate doc string and text function."
      ]
    },
    {
      "cell_type": "code",
      "metadata": {
        "id": "OtvePHgVw7UD",
        "colab_type": "code",
        "colab": {}
      },
      "source": [
        "split = pipeable(lambda sep, s: s.split(sep))\n",
        "last_two_char = pipeable(lambda Q: [s[-2:] for s in Q])"
      ],
      "execution_count": 31,
      "outputs": []
    },
    {
      "cell_type": "code",
      "metadata": {
        "id": "75LLXZzagVZE",
        "colab_type": "code",
        "colab": {
          "base_uri": "https://localhost:8080/",
          "height": 289
        },
        "outputId": "1bcae759-a7ba-4f29-80c4-8bd594b8ba21"
      },
      "source": [
        "quote = \"Don't judge each day by the harvest you reap but by the seeds that you plant.\"\n",
        "(quote\n",
        " >> split(\" \")\n",
        " >> last_two_char\n",
        " )"
      ],
      "execution_count": 32,
      "outputs": [
        {
          "output_type": "execute_result",
          "data": {
            "text/plain": [
              "[\"'t\",\n",
              " 'ge',\n",
              " 'ch',\n",
              " 'ay',\n",
              " 'by',\n",
              " 'he',\n",
              " 'st',\n",
              " 'ou',\n",
              " 'ap',\n",
              " 'ut',\n",
              " 'by',\n",
              " 'he',\n",
              " 'ds',\n",
              " 'at',\n",
              " 'ou',\n",
              " 't.']"
            ]
          },
          "metadata": {
            "tags": []
          },
          "execution_count": 32
        }
      ]
    },
    {
      "cell_type": "code",
      "metadata": {
        "id": "k4pUzrrt0gY3",
        "colab_type": "code",
        "colab": {}
      },
      "source": [
        "def first_two_char(q):\n",
        "    return (q\n",
        "            >> split(\" \")\n",
        "            >> last_two_char\n",
        "            )"
      ],
      "execution_count": 36,
      "outputs": []
    },
    {
      "cell_type": "code",
      "metadata": {
        "id": "BnQMXr5I054Q",
        "colab_type": "code",
        "colab": {
          "base_uri": "https://localhost:8080/",
          "height": 34
        },
        "outputId": "04b1be08-3dad-4035-c08c-56afe9f14f42"
      },
      "source": [
        "first_two_char(\"Hello\")"
      ],
      "execution_count": 37,
      "outputs": [
        {
          "output_type": "execute_result",
          "data": {
            "text/plain": [
              "['lo']"
            ]
          },
          "metadata": {
            "tags": []
          },
          "execution_count": 37
        }
      ]
    },
    {
      "cell_type": "markdown",
      "metadata": {
        "id": "EBdct7bLgVZi",
        "colab_type": "text"
      },
      "source": [
        "### <font color='red'> Exercise 2 </font>\n",
        "\n",
        "Notice that period at the end of the sentence.  It is probably safest to remove punctuation like periods, questions marks, and exclamation points.  Add a step to the pipe to remove these characters."
      ]
    },
    {
      "cell_type": "code",
      "metadata": {
        "id": "k8dwsGTggVZz",
        "colab_type": "code",
        "colab": {}
      },
      "source": [
        ""
      ],
      "execution_count": null,
      "outputs": []
    },
    {
      "cell_type": "markdown",
      "metadata": {
        "id": "G9Be9iO3gVZ5",
        "colab_type": "text"
      },
      "source": [
        "## (Ab)Using tuples in sequence processing.\n",
        "\n",
        "* Sometimes it is useful to hold mulitple pieces of information at once.\n",
        "    * Example *Keep all of the even length words* needs both length and the words themselves.\n",
        "* In this case we will use a list of tuples to aid the computation."
      ]
    },
    {
      "cell_type": "markdown",
      "metadata": {
        "id": "0kNRwlXkgVaH",
        "colab_type": "text"
      },
      "source": [
        "## Example: Take a quote and only keep the even length word."
      ]
    },
    {
      "cell_type": "markdown",
      "metadata": {
        "id": "E604EWPpgVaT",
        "colab_type": "text"
      },
      "source": [
        "#### Step 1 -- Get both words and lengths"
      ]
    },
    {
      "cell_type": "code",
      "metadata": {
        "id": "sJDbq3ppgVaU",
        "colab_type": "code",
        "colab": {}
      },
      "source": [
        "lengths_and_words = pipeable(lambda L: [(w, len(w)) for w in L ])\n",
        "take = pipeable(lambda num, L: L[:num])"
      ],
      "execution_count": null,
      "outputs": []
    },
    {
      "cell_type": "code",
      "metadata": {
        "id": "fViiCLOcgVaY",
        "colab_type": "code",
        "colab": {},
        "outputId": "daebb0d7-a265-499e-b953-3bbe2948ea76"
      },
      "source": [
        "(quote\n",
        " >> split(\" \")\n",
        " >> lengths_and_words\n",
        " >> take(2)\n",
        ")"
      ],
      "execution_count": null,
      "outputs": [
        {
          "output_type": "execute_result",
          "data": {
            "text/plain": [
              "[(\"Don't\", 5), ('judge', 5)]"
            ]
          },
          "metadata": {
            "tags": []
          },
          "execution_count": 25
        }
      ]
    },
    {
      "cell_type": "markdown",
      "metadata": {
        "id": "PHxWhSLKgVap",
        "colab_type": "text"
      },
      "source": [
        "#### Step 2 -- Filter based on length"
      ]
    },
    {
      "cell_type": "code",
      "metadata": {
        "id": "s7w49yV-gVaw",
        "colab_type": "code",
        "colab": {}
      },
      "source": [
        "is_even = lambda num: num % 2 == 0\n",
        "keep_even_lengths = pipeable(lambda tups: [w for w, length in tups if is_even(length)])"
      ],
      "execution_count": null,
      "outputs": []
    },
    {
      "cell_type": "code",
      "metadata": {
        "id": "uQBCXbUwgVa8",
        "colab_type": "code",
        "colab": {},
        "outputId": "defa2f31-77ce-4abf-97fb-3db959f30e7a"
      },
      "source": [
        "(quote\n",
        " >> split(\" \")\n",
        " >> lengths_and_words\n",
        " >> keep_even_lengths\n",
        ")"
      ],
      "execution_count": null,
      "outputs": [
        {
          "output_type": "execute_result",
          "data": {
            "text/plain": [
              "['each', 'by', 'reap', 'by', 'that', 'plant.']"
            ]
          },
          "metadata": {
            "tags": []
          },
          "execution_count": 30
        }
      ]
    },
    {
      "cell_type": "markdown",
      "metadata": {
        "id": "ydF0KPF9gVbR",
        "colab_type": "text"
      },
      "source": [
        "## <font color=\"red\"> TODO Add a image of what is happening here </font>"
      ]
    },
    {
      "cell_type": "markdown",
      "metadata": {
        "id": "OpJGmErugVbc",
        "colab_type": "text"
      },
      "source": [
        "### <font color='red'> Exercise 3 </font>\n",
        "\n",
        "Use a pipe to take a quote, split it into words, and then keeps all words that have at least 4 characters.  **Hint:** Use the `lengths_and_words` function! Package this process in a function called `at_least_4_char` and including appropriate doc string and text function."
      ]
    },
    {
      "cell_type": "code",
      "metadata": {
        "id": "hF4ot376gVbc",
        "colab_type": "code",
        "colab": {}
      },
      "source": [
        ""
      ],
      "execution_count": null,
      "outputs": []
    },
    {
      "cell_type": "markdown",
      "metadata": {
        "id": "03xz35R4gVb4",
        "colab_type": "text"
      },
      "source": [
        "<h2> <font color=\"red\"> TODO Add a section on refactoring compositions of comprehensions </font>"
      ]
    }
  ]
}